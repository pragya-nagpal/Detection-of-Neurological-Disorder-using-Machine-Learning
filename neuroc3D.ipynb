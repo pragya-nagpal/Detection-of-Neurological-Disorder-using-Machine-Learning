{
  "nbformat": 4,
  "nbformat_minor": 0,
  "metadata": {
    "colab": {
      "name": "Untitled263.ipynb",
      "provenance": [],
      "collapsed_sections": []
    },
    "kernelspec": {
      "name": "python3",
      "display_name": "Python 3"
    },
    "accelerator": "GPU"
  },
  "cells": [
    {
      "cell_type": "code",
      "metadata": {
        "id": "CKaaRgZNeYGt",
        "colab": {
          "base_uri": "https://localhost:8080/",
          "height": 122
        },
        "outputId": "16b33b78-36b9-4c92-ea81-b75d0783e3b2"
      },
      "source": [
        "from google.colab import drive\n",
        "drive.mount('/content/drive')"
      ],
      "execution_count": null,
      "outputs": [
        {
          "output_type": "stream",
          "text": [
            "Go to this URL in a browser: https://accounts.google.com/o/oauth2/auth?client_id=947318989803-6bn6qk8qdgf4n4g3pfee6491hc0brc4i.apps.googleusercontent.com&redirect_uri=urn%3Aietf%3Awg%3Aoauth%3A2.0%3Aoob&scope=email%20https%3A%2F%2Fwww.googleapis.com%2Fauth%2Fdocs.test%20https%3A%2F%2Fwww.googleapis.com%2Fauth%2Fdrive%20https%3A%2F%2Fwww.googleapis.com%2Fauth%2Fdrive.photos.readonly%20https%3A%2F%2Fwww.googleapis.com%2Fauth%2Fpeopleapi.readonly&response_type=code\n",
            "\n",
            "Enter your authorization code:\n",
            "··········\n",
            "Mounted at /content/drive\n"
          ],
          "name": "stdout"
        }
      ]
    },
    {
      "cell_type": "code",
      "metadata": {
        "id": "Bc_FAr2Zgljt"
      },
      "source": [
        "from keras.models import Sequential\n",
        "from keras.layers.core import Dense, Dropout, Flatten\n",
        "from keras.layers.convolutional import Convolution3D, MaxPooling3D, ZeroPadding3D\n",
        "from keras.optimizers import SGD\n",
        "from keras.models import model_from_json"
      ],
      "execution_count": null,
      "outputs": []
    },
    {
      "cell_type": "code",
      "metadata": {
        "id": "Vz1PSIF-i0uH"
      },
      "source": [
        "from keras.models import Sequential, Model\n",
        "from keras.layers import Input, Dense, Dropout, Flatten\n",
        "from keras.layers.convolutional import Conv3D, MaxPooling3D, ZeroPadding3D\n",
        "\n",
        "\n",
        "def create_model_sequential():\n",
        "    \"\"\" Creates model object with the sequential API:\n",
        "    https://keras.io/models/sequential/\n",
        "    \"\"\"\n",
        "\n",
        "    model = Sequential()\n",
        "    input_shape = (16, 112, 112, 3)\n",
        "\n",
        "    model.add(Conv3D(64, (3, 3, 3), activation='relu',\n",
        "                     padding='same', name='conv1',\n",
        "                     input_shape=input_shape))\n",
        "    model.add(MaxPooling3D(pool_size=(1, 2, 2), strides=(1, 2, 2),\n",
        "                           padding='valid', name='pool1'))\n",
        "    # 2nd layer group\n",
        "    model.add(Conv3D(128, (3, 3, 3), activation='relu',\n",
        "                     padding='same', name='conv2'))\n",
        "    model.add(MaxPooling3D(pool_size=(2, 2, 2), strides=(2, 2, 2),\n",
        "                           padding='valid', name='pool2'))\n",
        "    # 3rd layer group\n",
        "    model.add(Conv3D(256, (3, 3, 3), activation='relu',\n",
        "                     padding='same', name='conv3a'))\n",
        "    model.add(Conv3D(256, (3, 3, 3), activation='relu',\n",
        "                     padding='same', name='conv3b'))\n",
        "    model.add(MaxPooling3D(pool_size=(2, 2, 2), strides=(2, 2, 2),\n",
        "                           padding='valid', name='pool3'))\n",
        "    # 4th layer group\n",
        "    model.add(Conv3D(512, (3, 3, 3), activation='relu',\n",
        "                     padding='same', name='conv4a'))\n",
        "    model.add(Conv3D(512, (3, 3, 3), activation='relu',\n",
        "                     padding='same', name='conv4b'))\n",
        "    model.add(MaxPooling3D(pool_size=(2, 2, 2), strides=(2, 2, 2),\n",
        "                           padding='valid', name='pool4'))\n",
        "    # 5th layer group\n",
        "    model.add(Conv3D(512, (3, 3, 3), activation='relu',\n",
        "                     padding='same', name='conv5a'))\n",
        "    model.add(Conv3D(512, (3, 3, 3), activation='relu',\n",
        "                     padding='same', name='conv5b'))\n",
        "    model.add(ZeroPadding3D(padding=((0, 0), (0, 1), (0, 1)), name='zeropad5'))\n",
        "    model.add(MaxPooling3D(pool_size=(2, 2, 2), strides=(2, 2, 2),\n",
        "                           padding='valid', name='pool5'))\n",
        "    model.add(Flatten())\n",
        "    # FC layers group\n",
        "    model.add(Dense(4096, activation='relu', name='fc6'))\n",
        "    model.add(Dropout(.5))\n",
        "    model.add(Dense(4096, activation='relu', name='fc7'))\n",
        "    model.add(Dropout(.5))\n",
        "    model.add(Dense(487, activation='softmax', name='fc8'))\n",
        "\n",
        "    return model\n",
        "\n",
        "def create_model_functional():\n",
        "    \"\"\" Creates model object with the functional API:\n",
        "     https://keras.io/models/model/\n",
        "     \"\"\"\n",
        "    inputs = Input(shape=(16, 112, 112, 3,))\n",
        "\n",
        "    conv1 = Conv3D(64, (3, 3, 3), activation='relu',\n",
        "                   padding='same', name='conv1')(inputs)\n",
        "    pool1 = MaxPooling3D(pool_size=(1, 2, 2), strides=(1, 2, 2),\n",
        "                         padding='valid', name='pool1')(conv1)\n",
        "\n",
        "    conv2 = Conv3D(128, (3, 3, 3), activation='relu',\n",
        "                   padding='same', name='conv2')(pool1)\n",
        "    pool2 = MaxPooling3D(pool_size=(2, 2, 2), strides=(2, 2, 2),\n",
        "                         padding='valid', name='pool2')(conv2)\n",
        "\n",
        "    conv3a = Conv3D(256, (3, 3, 3), activation='relu',\n",
        "                    padding='same', name='conv3a')(pool2)\n",
        "    conv3b = Conv3D(256, (3, 3, 3), activation='relu',\n",
        "                    padding='same', name='conv3b')(conv3a)\n",
        "    pool3 = MaxPooling3D(pool_size=(2, 2, 2), strides=(2, 2, 2),\n",
        "                         padding='valid', name='pool3')(conv3b)\n",
        "\n",
        "    conv4a = Conv3D(512, (3, 3, 3), activation='relu',\n",
        "                    padding='same', name='conv4a')(pool3)\n",
        "    conv4b = Conv3D(512, (3, 3, 3), activation='relu',\n",
        "                    padding='same', name='conv4b')(conv4a)\n",
        "    pool4 = MaxPooling3D(pool_size=(2, 2, 2), strides=(2, 2, 2),\n",
        "                         padding='valid', name='pool4')(conv4b)\n",
        "\n",
        "    conv5a = Conv3D(512, (3, 3, 3), activation='relu',\n",
        "                    padding='same', name='conv5a')(pool4)\n",
        "    conv5b = Conv3D(512, (3, 3, 3), activation='relu',\n",
        "                    padding='same', name='conv5b')(conv5a)\n",
        "    zeropad5 = ZeroPadding3D(padding=((0, 0), (0, 1), (0, 1)),\n",
        "                             name='zeropad5')(conv5b)\n",
        "    pool5 = MaxPooling3D(pool_size=(2, 2, 2), strides=(2, 2, 2),\n",
        "                         padding='valid', name='pool5')(zeropad5)\n",
        "\n",
        "    flattened = Flatten()(pool5)\n",
        "    fc6 = Dense(4096, activation='relu', name='fc6')(flattened)\n",
        "    dropout1 = Dropout(rate=0.5)(fc6)\n",
        "\n",
        "    fc7 = Dense(4096, activation='relu', name='fc7')(dropout1)\n",
        "    dropout2 = Dropout(rate=0.5)(fc7)\n",
        "\n",
        "    predictions = Dense(487, activation='softmax', name='fc8')(dropout2)\n",
        "\n",
        "    return Model(inputs=inputs, outputs=predictions)\n",
        "\n",
        "def create_features_exctractor(C3D_model, layer_name='fc6'):\n",
        "    extractor = Model(inputs=C3D_model.input,\n",
        "                      outputs=C3D_model.get_layer(layer_name).output)\n",
        "    return extractor"
      ],
      "execution_count": null,
      "outputs": []
    },
    {
      "cell_type": "code",
      "metadata": {
        "id": "iFNQxrAmj2ni",
        "colab": {
          "base_uri": "https://localhost:8080/",
          "height": 275
        },
        "outputId": "0fabf253-54e9-47f2-d5d1-3176ea8fe409"
      },
      "source": [
        "import numpy as np\n",
        "model = create_model_functional()\n",
        "try:\n",
        "    model.load_weights('./drive/My Drive/C3D_Sport1M_weights_keras_2.2.4.h5')\n",
        "except OSError as err:\n",
        "    print('Check path to the model weights\\' file!\\n\\n', err)"
      ],
      "execution_count": null,
      "outputs": [
        {
          "output_type": "stream",
          "text": [
            "WARNING: Logging before flag parsing goes to stderr.\n",
            "W0614 15:17:40.051638 139729107167104 deprecation_wrapper.py:119] From /usr/local/lib/python3.6/dist-packages/keras/backend/tensorflow_backend.py:74: The name tf.get_default_graph is deprecated. Please use tf.compat.v1.get_default_graph instead.\n",
            "\n",
            "W0614 15:17:40.099853 139729107167104 deprecation_wrapper.py:119] From /usr/local/lib/python3.6/dist-packages/keras/backend/tensorflow_backend.py:517: The name tf.placeholder is deprecated. Please use tf.compat.v1.placeholder instead.\n",
            "\n",
            "W0614 15:17:40.107098 139729107167104 deprecation_wrapper.py:119] From /usr/local/lib/python3.6/dist-packages/keras/backend/tensorflow_backend.py:4138: The name tf.random_uniform is deprecated. Please use tf.random.uniform instead.\n",
            "\n",
            "W0614 15:17:40.244242 139729107167104 deprecation_wrapper.py:119] From /usr/local/lib/python3.6/dist-packages/keras/backend/tensorflow_backend.py:133: The name tf.placeholder_with_default is deprecated. Please use tf.compat.v1.placeholder_with_default instead.\n",
            "\n",
            "W0614 15:17:40.256460 139729107167104 deprecation.py:506] From /usr/local/lib/python3.6/dist-packages/keras/backend/tensorflow_backend.py:3445: calling dropout (from tensorflow.python.ops.nn_ops) with keep_prob is deprecated and will be removed in a future version.\n",
            "Instructions for updating:\n",
            "Please use `rate` instead of `keep_prob`. Rate should be set to `rate = 1 - keep_prob`.\n",
            "W0614 15:17:45.520368 139729107167104 deprecation_wrapper.py:119] From /usr/local/lib/python3.6/dist-packages/keras/backend/tensorflow_backend.py:174: The name tf.get_default_session is deprecated. Please use tf.compat.v1.get_default_session instead.\n",
            "\n"
          ],
          "name": "stderr"
        }
      ]
    },
    {
      "cell_type": "code",
      "metadata": {
        "id": "v8IMVfsokMxk",
        "colab": {
          "base_uri": "https://localhost:8080/",
          "height": 850
        },
        "outputId": "54ed0277-9fa1-424c-aaa8-cd5a83763659"
      },
      "source": [
        "model.summary()"
      ],
      "execution_count": null,
      "outputs": [
        {
          "output_type": "stream",
          "text": [
            "_________________________________________________________________\n",
            "Layer (type)                 Output Shape              Param #   \n",
            "=================================================================\n",
            "input_1 (InputLayer)         (None, 16, 112, 112, 3)   0         \n",
            "_________________________________________________________________\n",
            "conv1 (Conv3D)               (None, 16, 112, 112, 64)  5248      \n",
            "_________________________________________________________________\n",
            "pool1 (MaxPooling3D)         (None, 16, 56, 56, 64)    0         \n",
            "_________________________________________________________________\n",
            "conv2 (Conv3D)               (None, 16, 56, 56, 128)   221312    \n",
            "_________________________________________________________________\n",
            "pool2 (MaxPooling3D)         (None, 8, 28, 28, 128)    0         \n",
            "_________________________________________________________________\n",
            "conv3a (Conv3D)              (None, 8, 28, 28, 256)    884992    \n",
            "_________________________________________________________________\n",
            "conv3b (Conv3D)              (None, 8, 28, 28, 256)    1769728   \n",
            "_________________________________________________________________\n",
            "pool3 (MaxPooling3D)         (None, 4, 14, 14, 256)    0         \n",
            "_________________________________________________________________\n",
            "conv4a (Conv3D)              (None, 4, 14, 14, 512)    3539456   \n",
            "_________________________________________________________________\n",
            "conv4b (Conv3D)              (None, 4, 14, 14, 512)    7078400   \n",
            "_________________________________________________________________\n",
            "pool4 (MaxPooling3D)         (None, 2, 7, 7, 512)      0         \n",
            "_________________________________________________________________\n",
            "conv5a (Conv3D)              (None, 2, 7, 7, 512)      7078400   \n",
            "_________________________________________________________________\n",
            "conv5b (Conv3D)              (None, 2, 7, 7, 512)      7078400   \n",
            "_________________________________________________________________\n",
            "zeropad5 (ZeroPadding3D)     (None, 2, 8, 8, 512)      0         \n",
            "_________________________________________________________________\n",
            "pool5 (MaxPooling3D)         (None, 1, 4, 4, 512)      0         \n",
            "_________________________________________________________________\n",
            "flatten_1 (Flatten)          (None, 8192)              0         \n",
            "_________________________________________________________________\n",
            "fc6 (Dense)                  (None, 4096)              33558528  \n",
            "_________________________________________________________________\n",
            "dropout_1 (Dropout)          (None, 4096)              0         \n",
            "_________________________________________________________________\n",
            "fc7 (Dense)                  (None, 4096)              16781312  \n",
            "_________________________________________________________________\n",
            "dropout_2 (Dropout)          (None, 4096)              0         \n",
            "_________________________________________________________________\n",
            "fc8 (Dense)                  (None, 487)               1995239   \n",
            "=================================================================\n",
            "Total params: 79,991,015\n",
            "Trainable params: 79,991,015\n",
            "Non-trainable params: 0\n",
            "_________________________________________________________________\n"
          ],
          "name": "stdout"
        }
      ]
    },
    {
      "cell_type": "code",
      "metadata": {
        "id": "DZW0rr6WkqDN"
      },
      "source": [
        "#video ka feature extract 16 ke frame 112,112,3 ka bana ke dalna ek ke liye 4096 feature aa gye\n",
        "#puri ke liye say 10 ese dale 10*4096\n",
        "#ek video ke liye then average all features "
      ],
      "execution_count": null,
      "outputs": []
    },
    {
      "cell_type": "code",
      "metadata": {
        "id": "rc__PJths9t6",
        "colab": {
          "base_uri": "https://localhost:8080/",
          "height": 34
        },
        "outputId": "68e0293e-0f01-4a79-9b6c-7ebb5d506c7b"
      },
      "source": [
        "4%3"
      ],
      "execution_count": null,
      "outputs": [
        {
          "output_type": "execute_result",
          "data": {
            "text/plain": [
              "1"
            ]
          },
          "metadata": {
            "tags": []
          },
          "execution_count": 24
        }
      ]
    },
    {
      "cell_type": "code",
      "metadata": {
        "id": "SMZTnTPcs_MR"
      },
      "source": [
        ""
      ],
      "execution_count": null,
      "outputs": []
    }
  ]
}