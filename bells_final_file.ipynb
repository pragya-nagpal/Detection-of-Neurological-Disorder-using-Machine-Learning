{
  "nbformat": 4,
  "nbformat_minor": 0,
  "metadata": {
    "colab": {
      "name": "bells final file.ipynb",
      "provenance": [],
      "collapsed_sections": []
    },
    "kernelspec": {
      "name": "python3",
      "display_name": "Python 3"
    },
    "accelerator": "GPU"
  },
  "cells": [
    {
      "cell_type": "code",
      "metadata": {
        "id": "ALjvlvNlkSpr",
        "colab": {
          "base_uri": "https://localhost:8080/",
          "height": 55
        },
        "outputId": "741910da-7fea-43f2-d379-ed0c151489cf"
      },
      "source": [
        "from google.colab import drive\n",
        "drive.mount('/content/drive')"
      ],
      "execution_count": null,
      "outputs": [
        {
          "output_type": "stream",
          "text": [
            "Drive already mounted at /content/drive; to attempt to forcibly remount, call drive.mount(\"/content/drive\", force_remount=True).\n"
          ],
          "name": "stdout"
        }
      ]
    },
    {
      "cell_type": "code",
      "metadata": {
        "id": "NlHDp28YYVPa"
      },
      "source": [
        "#blepblink \n",
        "import cv2, numpy as np, glob, os,shutil, keras, matplotlib.pyplot as plt,tensorflow as tf,matplotlib.mlab as mplt, sys\n",
        "from matplotlib import style\n",
        "from keras.models import Sequential\n",
        "from keras.models import load_model\n",
        "from keras.layers import Convolution2D, MaxPooling2D, Dropout,ZeroPadding2D\n",
        "from keras.layers.core import Dense, Dropout, Activation, Flatten\n",
        "from keras.optimizers import Adam\n",
        "from sklearn.model_selection import train_test_split as tt\n",
        "import scipy.io.wavfile\n",
        "from math import sqrt\n",
        "import librosa\n",
        "from sklearn.metrics import roc_curve, auc, roc_auc_score\n",
        "from sklearn.metrics import confusion_matrix\n",
        "from sklearn.metrics import precision_recall_curve,f1_score,average_precision_score,confusion_matrix\n",
        "from keras import backend as K\n",
        "from keras.callbacks import ModelCheckpoint\n",
        "from sklearn.preprocessing import StandardScaler as sd\n",
        "from sklearn.model_selection import StratifiedKFold\n",
        "import subprocess\n",
        "from sklearn.decomposition import PCA\n",
        "from IPython.display import Audio\n",
        "from keras.models import Model\n",
        "from keras import optimizers\n",
        "from imutils import face_utils\n",
        "import dlib,math\n",
        "\n",
        "detector= dlib.get_frontal_face_detector()\n",
        "predictor = dlib.shape_predictor('./drive/My Drive/shape_predictor_68_face_landmarks.dat')"
      ],
      "execution_count": null,
      "outputs": []
    },
    {
      "cell_type": "code",
      "metadata": {
        "id": "i-H3AqRWkUWg"
      },
      "source": [
        "drop=0.8\n",
        "learning_rate=.0001\n",
        "epoch=50\n",
        "count=0"
      ],
      "execution_count": null,
      "outputs": []
    },
    {
      "cell_type": "code",
      "metadata": {
        "id": "kb6jNFJwkX0D",
        "colab": {
          "base_uri": "https://localhost:8080/",
          "height": 379
        },
        "outputId": "63dffefd-ae99-4517-97ed-65db13ee1f68"
      },
      "source": [
        "model = Sequential()\n",
        "model.add(Convolution2D(32, (2,2), input_shape=(50,50,1), activation='relu'))\n",
        "model.add(MaxPooling2D(pool_size=(2, 2),padding='same'))\n",
        "\n",
        "model.add(Convolution2D(64, (2,2), activation='relu', padding='same'))\n",
        "model.add(MaxPooling2D(pool_size=(2, 2),padding='same'))\n",
        "\n",
        "\n",
        "model.add(Convolution2D(32, (2,2), activation='relu', padding='same'))\n",
        "model.add(MaxPooling2D(pool_size=(2, 2),padding='same'))\n",
        "model.add(Convolution2D(64, (2,2), activation='relu', padding='same'))\n",
        "model.add(MaxPooling2D(pool_size=(2, 2), padding='same'))\n",
        "model.add(Convolution2D(32, (2,2), activation='relu', padding='same'))\n",
        "model.add(MaxPooling2D(pool_size=(2, 2),padding='same'))\n",
        "model.add(Convolution2D(64, (2,2), activation='relu', padding='same'))\n",
        "model.add(MaxPooling2D(pool_size=(2, 2),padding='same'))\n",
        "\n",
        "\n",
        "model.add(Convolution2D(32, (2,2), activation='relu', padding='same'))\n",
        "model.add(MaxPooling2D(pool_size=(2, 2),padding='same'))\n",
        "model.add(Convolution2D(64, (2,2), activation='relu', padding='same'))\n",
        "model.add(MaxPooling2D(pool_size=(2, 2),padding='same'))\n",
        "\n",
        "\n",
        "model.add(Convolution2D(32, (2,2), activation='relu', padding='same'))\n",
        "model.add(MaxPooling2D(pool_size=(2, 2),padding='same'))\n",
        "\n",
        "model.add(Convolution2D(64, 2, activation='relu',padding='same'))\n",
        "#model.add(ZeroPadding2D((1, 1)))\n",
        "model.add(MaxPooling2D(pool_size=2,padding='same'))\n",
        "#model.add(Dropout(0.3))\n",
        "\n",
        "\n",
        "model.add(Flatten())\n",
        "model.add(Dense(1024, activation='relu'))\n",
        "#model.add(Dropout(0.30))\n",
        "#   model.add(Dense(512, activation='relu'))\n",
        "#   model.add(Dense(1024, activation='relu'))\n",
        "model.add(Dropout(drop))\n",
        "model.add(Dense(2))\n",
        "model.add(Activation('softmax'))\n",
        "model.load_weights(\"./drive/My Drive/neuro/colour.hdf5\")\n",
        "adam=optimizers.Adam(lr=learning_rate)\n",
        "model.compile(optimizer=adam,loss='categorical_crossentropy', metrics=['accuracy'])\n"
      ],
      "execution_count": null,
      "outputs": [
        {
          "output_type": "stream",
          "text": [
            "WARNING: Logging before flag parsing goes to stderr.\n",
            "W0725 15:01:00.909596 140552028325760 deprecation_wrapper.py:119] From /usr/local/lib/python3.6/dist-packages/keras/backend/tensorflow_backend.py:74: The name tf.get_default_graph is deprecated. Please use tf.compat.v1.get_default_graph instead.\n",
            "\n",
            "W0725 15:01:00.940000 140552028325760 deprecation_wrapper.py:119] From /usr/local/lib/python3.6/dist-packages/keras/backend/tensorflow_backend.py:517: The name tf.placeholder is deprecated. Please use tf.compat.v1.placeholder instead.\n",
            "\n",
            "W0725 15:01:00.950315 140552028325760 deprecation_wrapper.py:119] From /usr/local/lib/python3.6/dist-packages/keras/backend/tensorflow_backend.py:4138: The name tf.random_uniform is deprecated. Please use tf.random.uniform instead.\n",
            "\n",
            "W0725 15:01:00.976203 140552028325760 deprecation_wrapper.py:119] From /usr/local/lib/python3.6/dist-packages/keras/backend/tensorflow_backend.py:3976: The name tf.nn.max_pool is deprecated. Please use tf.nn.max_pool2d instead.\n",
            "\n",
            "W0725 15:01:01.212704 140552028325760 deprecation_wrapper.py:119] From /usr/local/lib/python3.6/dist-packages/keras/backend/tensorflow_backend.py:133: The name tf.placeholder_with_default is deprecated. Please use tf.compat.v1.placeholder_with_default instead.\n",
            "\n",
            "W0725 15:01:01.236653 140552028325760 deprecation.py:506] From /usr/local/lib/python3.6/dist-packages/keras/backend/tensorflow_backend.py:3445: calling dropout (from tensorflow.python.ops.nn_ops) with keep_prob is deprecated and will be removed in a future version.\n",
            "Instructions for updating:\n",
            "Please use `rate` instead of `keep_prob`. Rate should be set to `rate = 1 - keep_prob`.\n",
            "W0725 15:01:01.242298 140552028325760 nn_ops.py:4224] Large dropout rate: 0.8 (>0.5). In TensorFlow 2.x, dropout() uses dropout rate instead of keep_prob. Please ensure that this is intended.\n",
            "W0725 15:01:01.374273 140552028325760 deprecation_wrapper.py:119] From /usr/local/lib/python3.6/dist-packages/keras/backend/tensorflow_backend.py:174: The name tf.get_default_session is deprecated. Please use tf.compat.v1.get_default_session instead.\n",
            "\n",
            "W0725 15:01:02.409029 140552028325760 deprecation_wrapper.py:119] From /usr/local/lib/python3.6/dist-packages/keras/optimizers.py:790: The name tf.train.Optimizer is deprecated. Please use tf.compat.v1.train.Optimizer instead.\n",
            "\n"
          ],
          "name": "stderr"
        }
      ]
    },
    {
      "cell_type": "code",
      "metadata": {
        "id": "oIJtloe4kcBJ"
      },
      "source": [
        "path_dict={0:\"./drive/My Drive/neuro/neuro_disorder_data_final/bells/disease/\",1:\"./drive/My Drive/neuro/neuro_disorder_data_final/bells/normal/\"}"
      ],
      "execution_count": null,
      "outputs": []
    },
    {
      "cell_type": "code",
      "metadata": {
        "id": "sNeQQRnrkt60"
      },
      "source": [
        "file=open(path_dict[0]+\"bells.txt\",'w')"
      ],
      "execution_count": null,
      "outputs": []
    },
    {
      "cell_type": "code",
      "metadata": {
        "id": "kthcv5LKk4mq",
        "colab": {
          "base_uri": "https://localhost:8080/",
          "height": 1000
        },
        "outputId": "866c4adf-0a4e-4741-d3fc-c7c4a41241e0"
      },
      "source": [
        "for nos in range(2):\n",
        "    kcount=0\n",
        "    vid=0\n",
        "#     b=path_dict[nos].split(\"cerv/\")\n",
        "#     os.mkdir(b[0]+\"cerv_blinkrig/\"+b[1])\n",
        "    for i in range(0,45):\n",
        "        \n",
        "        if(os.path.exists(path_dict[nos]+str(i)+\".mp4\")):\n",
        "\n",
        "            \n",
        "            video=path_dict[nos]+str(i)+\".mp4\"\n",
        "            cap=cv2.VideoCapture(video)\n",
        "#             sar=[]\n",
        "            predlef=[]\n",
        "#             lee=[]\n",
        "#             ree=[]\n",
        "#             arr=[]    \n",
        "            predrig=[]\n",
        "            c=0\n",
        "#             s=0\n",
        "#             fps = cap.get(cv2.CAP_PROP_FPS)\n",
        "#             frame= cap.get(cv2.CAP_PROP_FRAME_COUNT)\n",
        "#             sec=int(frame/fps)\n",
        "#             fact = 40/sec\n",
        "#             c0=0\n",
        "#             e=sec\n",
        "            while(cap.isOpened()):\n",
        "                ret , frame=cap.read()\n",
        "                if ret == True:\n",
        "                    gray=cv2.cvtColor(frame,cv2.COLOR_BGR2GRAY)\n",
        "                    shape1=np.array([])\n",
        "                    rects1=detector(gray,0)\n",
        "                    for rect in rects1:\n",
        "                        shape = predictor(gray,rect)\n",
        "                        shape1 = face_utils.shape_to_np(shape)\n",
        "                    if(shape1.any()==0):\n",
        "                        predlef.append('e')\n",
        "                        predrig.append('e')\n",
        "                        continue\n",
        "\n",
        "                    #if blink\n",
        "                    # first extract eye\n",
        "                    fe1=shape1[39][0] - shape1[36][0]#eye lft ke liye\n",
        "                    x1=shape1[42][0]\n",
        "                    x1=x1-2\n",
        "                    x2= shape1[45][0] \n",
        "                    x2=x2+2\n",
        "                    y1=shape1[43][1]\n",
        "                    y1=y1-18\n",
        "                    y2=shape1[46][1]\n",
        "                    y2=y2+12\n",
        "                    if(x1<0):\n",
        "                        x1=0\n",
        "                    if(y1<0):\n",
        "                        y1=0\n",
        "                    if(x2>frame.shape[1]):\n",
        "                        x2=frame.shape[1]\n",
        "                    if(y2>frame.shape[0]):\n",
        "                        y2=frame.shape[0]   \n",
        "\n",
        "                    x_1=gray[y1:y2, x1:x2]\n",
        "\n",
        "                    fe2=shape1[45][0] - shape1[42][0]# fe2 eye 2 ke liye\n",
        "                    x1=shape1[36][0]\n",
        "                    x1=x1-2\n",
        "                    x2= shape1[39][0] \n",
        "                    x2=x2+2\n",
        "                    y1=shape1[37][1]\n",
        "                    y1=y1-18\n",
        "                    y2=shape1[40][1]\n",
        "                    y2=y2+12\n",
        "                    if(x1<0):\n",
        "                        x1=0\n",
        "                    if(y1<0):\n",
        "                        y1=0\n",
        "                    if(x2>frame.shape[1]):\n",
        "                        x2=frame.shape[1]\n",
        "                    if(y2>frame.shape[0]):\n",
        "                        y2=frame.shape[0] \n",
        "                    x_2=gray[y1:y2, x1:x2]\n",
        "                    if(x_1 is None or x_2 is None):\n",
        "                        print(c)\n",
        "                        c+=1\n",
        "                        continue\n",
        "                    x_1 = cv2.flip(x_1,1)\n",
        "                    img=cv2.resize(x_1, (50,50))\n",
        "                    img=np.reshape(img, ([1,50,50,1]))\n",
        "                    pred1=np.argmax(model.predict(img))\n",
        "                    predlef.append(pred1)\n",
        "\n",
        "                    img=cv2.resize(x_2, (50,50))\n",
        "                    img=np.reshape(img, ([1,50,50,1]))\n",
        "                    pred2=np.argmax(model.predict(img))\n",
        "                    predrig.append(pred2)\n",
        "\n",
        "                    c+=1\n",
        "                else:\n",
        "                    #print(\"video \")\n",
        "                    break\n",
        "            cap.release()\n",
        "            cv2.destroyAllWindows()\n",
        "            \n",
        "            \n",
        "            l=0\n",
        "            r=0\n",
        "            p = len(predlef)\n",
        "            for il in range(p):\n",
        "                if(predlef[il]==1):\n",
        "                    l+=1\n",
        "                if(predrig[il]==1):\n",
        "                    r+=1\n",
        "            if max(l,r)==0:\n",
        "                feat=0\n",
        "            else:\n",
        "                feat=min(l,r)/max(l,r)\n",
        "            if(nos==0):\n",
        "                lab=1 \n",
        "            else:\n",
        "                lab=0#normal video cervical nahi h\n",
        "            file.write(str(i)+\",\"+str(feat)+\",\"+str(lab)+\"\\n\")\n",
        "            print(str(i)+\",\"+str(feat)+\",\"+str(lab))\n",
        "            "
      ],
      "execution_count": null,
      "outputs": [
        {
          "output_type": "stream",
          "text": [
            "0,0.04489164086687306,1\n",
            "1,0.0,1\n",
            "2,0.11458333333333333,1\n",
            "3,0.3309659090909091,1\n",
            "4,0.0,1\n",
            "5,0.07526881720430108,1\n",
            "6,0.0,1\n",
            "7,0.7924528301886793,1\n",
            "8,0.41025641025641024,1\n",
            "9,0.004291845493562232,1\n",
            "10,0.0,1\n",
            "11,0.0,1\n",
            "12,0.017094017094017096,1\n",
            "13,0.0,1\n",
            "14,0.06363636363636363,1\n",
            "15,0.0,1\n",
            "16,0.0,1\n",
            "17,0.0,1\n",
            "18,0.0547945205479452,1\n",
            "19,0.0,1\n",
            "20,0.0,1\n",
            "21,0.0,1\n",
            "22,0.0,1\n",
            "23,0.13658536585365855,1\n",
            "24,0.006329113924050633,1\n",
            "25,0.0,1\n",
            "26,0.26,1\n",
            "27,0.0,1\n",
            "28,0.022443890274314215,1\n",
            "29,0.011627906976744186,1\n",
            "30,0.23529411764705882,1\n",
            "31,0.0,1\n",
            "32,0.32456140350877194,1\n",
            "33,0.6352941176470588,1\n",
            "34,0.0,1\n",
            "35,0.42857142857142855,1\n",
            "36,0.233502538071066,1\n",
            "37,0.4967741935483871,1\n",
            "38,0.0,1\n",
            "39,0.532967032967033,1\n",
            "40,0.0,1\n",
            "0,0.9392265193370166,0\n",
            "1,0.7853403141361257,0\n",
            "2,0.8783783783783784,0\n",
            "3,0.875,0\n",
            "4,0.9733333333333334,0\n",
            "5,0.8658536585365854,0\n",
            "6,0.75,0\n",
            "7,0.22857142857142856,0\n",
            "8,0.912568306010929,0\n",
            "9,0.7454545454545455,0\n",
            "10,0.9385964912280702,0\n",
            "11,0.9696969696969697,0\n",
            "12,0.7428571428571429,0\n",
            "13,0.7586206896551724,0\n",
            "14,0.9014084507042254,0\n",
            "15,0.7887323943661971,0\n",
            "16,0.7816091954022989,0\n",
            "17,0.9264705882352942,0\n",
            "18,1.0,0\n",
            "19,0.9876543209876543,0\n",
            "20,0.5342465753424658,0\n",
            "21,0.9444444444444444,0\n",
            "22,0.7849462365591398,0\n",
            "23,0.9688385269121813,0\n",
            "24,0.65,0\n",
            "25,0,0\n",
            "26,1.0,0\n",
            "27,0.9233870967741935,0\n",
            "28,0.9263803680981595,0\n",
            "29,0.928679817905918,0\n",
            "30,0.9519890260631001,0\n",
            "31,0.9145569620253164,0\n",
            "32,0.5,0\n",
            "33,0.8973384030418251,0\n"
          ],
          "name": "stdout"
        }
      ]
    },
    {
      "cell_type": "code",
      "metadata": {
        "id": "SRvl9JSnlPKa"
      },
      "source": [
        "f.close()"
      ],
      "execution_count": null,
      "outputs": []
    },
    {
      "cell_type": "code",
      "metadata": {
        "id": "_B9IG4yfpnK_"
      },
      "source": [
        ""
      ],
      "execution_count": null,
      "outputs": []
    }
  ]
}