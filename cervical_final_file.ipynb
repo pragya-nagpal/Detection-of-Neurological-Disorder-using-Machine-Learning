{
  "nbformat": 4,
  "nbformat_minor": 0,
  "metadata": {
    "colab": {
      "name": "cervical final file.ipynb",
      "provenance": [],
      "collapsed_sections": []
    },
    "kernelspec": {
      "name": "python3",
      "display_name": "Python 3"
    },
    "accelerator": "GPU"
  },
  "cells": [
    {
      "cell_type": "code",
      "metadata": {
        "id": "wgyy0GwjJjZ7",
        "colab": {
          "base_uri": "https://localhost:8080/",
          "height": 127
        },
        "outputId": "c5d1bf0c-77eb-4cbd-d93f-da965ba31fcf"
      },
      "source": [
        "from google.colab import drive\n",
        "drive.mount('/content/drive')\n",
        "#250 from here we took cervical code"
      ],
      "execution_count": null,
      "outputs": [
        {
          "output_type": "stream",
          "text": [
            "Go to this URL in a browser: https://accounts.google.com/o/oauth2/auth?client_id=947318989803-6bn6qk8qdgf4n4g3pfee6491hc0brc4i.apps.googleusercontent.com&redirect_uri=urn%3Aietf%3Awg%3Aoauth%3A2.0%3Aoob&scope=email%20https%3A%2F%2Fwww.googleapis.com%2Fauth%2Fdocs.test%20https%3A%2F%2Fwww.googleapis.com%2Fauth%2Fdrive%20https%3A%2F%2Fwww.googleapis.com%2Fauth%2Fdrive.photos.readonly%20https%3A%2F%2Fwww.googleapis.com%2Fauth%2Fpeopleapi.readonly&response_type=code\n",
            "\n",
            "Enter your authorization code:\n",
            "··········\n",
            "Mounted at /content/drive\n"
          ],
          "name": "stdout"
        }
      ]
    },
    {
      "cell_type": "code",
      "metadata": {
        "id": "9aTpTphcJkfs"
      },
      "source": [
        "#blepblink \n",
        "import cv2, numpy as np, glob, os,shutil, keras, matplotlib.pyplot as plt,tensorflow as tf,matplotlib.mlab as mplt, sys\n",
        "from matplotlib import style\n",
        "from keras.models import Sequential\n",
        "from keras.models import load_model\n",
        "from keras.layers import Convolution2D, MaxPooling2D, Dropout,ZeroPadding2D\n",
        "from keras.layers.core import Dense, Dropout, Activation, Flatten\n",
        "from keras.optimizers import Adam\n",
        "from sklearn.model_selection import train_test_split as tt\n",
        "import scipy.io.wavfile\n",
        "from math import sqrt\n",
        "import librosa\n",
        "from sklearn.metrics import roc_curve, auc, roc_auc_score\n",
        "from sklearn.metrics import confusion_matrix\n",
        "from sklearn.metrics import precision_recall_curve,f1_score,average_precision_score,confusion_matrix\n",
        "from keras import backend as K\n",
        "from keras.callbacks import ModelCheckpoint\n",
        "from sklearn.preprocessing import StandardScaler as sd\n",
        "from sklearn.model_selection import StratifiedKFold\n",
        "import subprocess\n",
        "from sklearn.decomposition import PCA\n",
        "from IPython.display import Audio\n",
        "from keras.models import Model\n",
        "from keras import optimizers\n",
        "from imutils import face_utils\n",
        "import dlib,math\n",
        "detector= dlib.get_frontal_face_detector()\n",
        "predictor = dlib.shape_predictor('./drive/My Drive/shape_predictor_68_face_landmarks.dat')"
      ],
      "execution_count": null,
      "outputs": []
    },
    {
      "cell_type": "code",
      "metadata": {
        "id": "9tHd3X01Jnpc"
      },
      "source": [
        "def reye(frame,shape1):\n",
        "    eye= shape1[39][0] -shape1[36][0] \n",
        "    x1=shape1[36][0]\n",
        "    x1=x1-int(eye*(0.4))\n",
        "    x2= shape1[39][0] \n",
        "    x2=x2+2\n",
        "    y1=shape1[37][1]\n",
        "    y1=y1-int(eye*0.6)\n",
        "    y2=shape1[40][1]\n",
        "    y2=y2+int(eye*0.6)\n",
        "    if(x1<0):\n",
        "        x1=0\n",
        "    if(y1<0):\n",
        "        y1=0\n",
        "    if(x2>frame.shape[1]):\n",
        "        x2=frame.shape[1]\n",
        "    if(y2>frame.shape[0]):\n",
        "        y2=frame.shape[0]   \n",
        "    x_2=frame[y1:y2, x1:x2]\n",
        "    \n",
        "    return x_2\n",
        "def leye(frame,shape1):\n",
        "    eye= shape1[45][0] -shape1[42][0] \n",
        "    x1=shape1[42][0]\n",
        "    x1=x1-2\n",
        "    x2= shape1[45][0] \n",
        "    x2=x2+int(eye*(0.4))\n",
        "    y1= shape1[43][1]\n",
        "    y1=y1-int(eye*(0.6))\n",
        "    y2=shape1[47][1]\n",
        "    y2=y2+int(eye*(0.6))\n",
        "    if(x1<0):\n",
        "        x1=0\n",
        "    if(y1<0):\n",
        "        y1=0\n",
        "    if(x2>frame.shape[1]):\n",
        "        x2=frame.shape[1]\n",
        "    if(y2>frame.shape[0]):\n",
        "        y2=frame.shape[0] \n",
        "    x_=frame[ y1:y2, x1:x2]\n",
        "    return x_\n",
        "def leyen(frame,shape1):\n",
        "    x= (shape1[42][0]+shape1[45][0])/2.0\n",
        "    y= (shape1[43][1]+shape1[47][1])/2.0\n",
        "    nose=shape1[35][0] - shape1[31][0]\n",
        "    x1= int(x-0.7*nose)\n",
        "    x2 = int(x+0.9*nose)\n",
        "    y1=int(y - nose)\n",
        "    y2=int(y + 0.6*nose)\n",
        "    if(x1<0):\n",
        "        x1=0\n",
        "    if(y1<0):\n",
        "        y1=0\n",
        "    if(x2>frame.shape[1]):\n",
        "        x2=frame.shape[1]\n",
        "    if(y2>frame.shape[0]):\n",
        "        y2=frame.shape[0]   \n",
        "    x_1=frame[y1:y2, x1:x2]\n",
        "    return x_1\n",
        "def reyen(frame, shape1):\n",
        "    x= (shape1[39][0]+shape1[36][0])/2.0\n",
        "    y= (shape1[37][1]+shape1[41][1])/2.0\n",
        "    nose=shape1[35][0] - shape1[31][0]\n",
        "    x1= int(x-0.9*nose)\n",
        "    x2 = int(x+0.7*nose)\n",
        "    y1=int(y - nose)\n",
        "    y2=int(y + 0.6*nose)\n",
        "    if(x1<0):\n",
        "        x1=0\n",
        "    if(y1<0):\n",
        "        y1=0\n",
        "    if(x2>frame.shape[1]):\n",
        "        x2=frame.shape[1]\n",
        "    if(y2>frame.shape[0]):\n",
        "        y2=frame.shape[0]   \n",
        "    x_2=frame[y1:y2, x1:x2]\n",
        "    return x_2"
      ],
      "execution_count": null,
      "outputs": []
    },
    {
      "cell_type": "code",
      "metadata": {
        "id": "EOAOC66UJpMF",
        "colab": {
          "base_uri": "https://localhost:8080/",
          "height": 379
        },
        "outputId": "a4b46dd2-edf9-4831-8ed8-7f0e8a95c421"
      },
      "source": [
        "# eye of interest ko check kr re h.\n",
        "drop=0.8\n",
        "learning_rate=.0001\n",
        "epoch=50\n",
        "#count=0\n",
        "model = Sequential()\n",
        "model.add(Convolution2D(32, (2,2), input_shape=(50,50,1), activation='relu'))\n",
        "model.add(MaxPooling2D(pool_size=(2, 2),padding='same'))\n",
        "\n",
        "model.add(Convolution2D(64, (2,2), activation='relu', padding='same'))\n",
        "model.add(MaxPooling2D(pool_size=(2, 2),padding='same'))\n",
        "\n",
        "model.add(Convolution2D(32, (2,2), activation='relu', padding='same'))\n",
        "model.add(MaxPooling2D(pool_size=(2, 2),padding='same'))\n",
        "model.add(Convolution2D(64, (2,2), activation='relu', padding='same'))\n",
        "model.add(MaxPooling2D(pool_size=(2, 2), padding='same'))\n",
        "model.add(Convolution2D(32, (2,2), activation='relu', padding='same'))\n",
        "model.add(MaxPooling2D(pool_size=(2, 2),padding='same'))\n",
        "model.add(Convolution2D(64, (2,2), activation='relu', padding='same'))\n",
        "model.add(MaxPooling2D(pool_size=(2, 2),padding='same'))\n",
        "\n",
        "\n",
        "model.add(Convolution2D(32, (2,2), activation='relu', padding='same'))\n",
        "model.add(MaxPooling2D(pool_size=(2, 2),padding='same'))\n",
        "model.add(Convolution2D(64, (2,2), activation='relu', padding='same'))\n",
        "model.add(MaxPooling2D(pool_size=(2, 2),padding='same'))\n",
        "\n",
        "\n",
        "model.add(Convolution2D(32, (2,2), activation='relu', padding='same'))\n",
        "model.add(MaxPooling2D(pool_size=(2, 2),padding='same'))\n",
        "\n",
        "model.add(Convolution2D(64, 2, activation='relu',padding='same'))\n",
        "#model.add(ZeroPadding2D((1, 1)))\n",
        "model.add(MaxPooling2D(pool_size=2,padding='same'))\n",
        "#model.add(Dropout(0.3))\n",
        "\n",
        "\n",
        "model.add(Flatten())\n",
        "model.add(Dense(1024, activation='relu'))\n",
        "#model.add(Dropout(0.30))\n",
        "#   model.add(Dense(512, activation='relu'))\n",
        "#   model.add(Dense(1024, activation='relu'))\n",
        "model.add(Dropout(drop))\n",
        "model.add(Dense(2))\n",
        "model.add(Activation('softmax'))\n",
        "model.load_weights(\"./drive/My Drive/neuro/colour.hdf5\")\n",
        "adam=optimizers.Adam(lr=learning_rate)\n",
        "model.compile(optimizer=adam,loss='categorical_crossentropy', metrics=['accuracy'])"
      ],
      "execution_count": null,
      "outputs": [
        {
          "output_type": "stream",
          "text": [
            "WARNING: Logging before flag parsing goes to stderr.\n",
            "W0725 12:43:13.523281 140167818422144 deprecation_wrapper.py:119] From /usr/local/lib/python3.6/dist-packages/keras/backend/tensorflow_backend.py:74: The name tf.get_default_graph is deprecated. Please use tf.compat.v1.get_default_graph instead.\n",
            "\n",
            "W0725 12:43:13.573468 140167818422144 deprecation_wrapper.py:119] From /usr/local/lib/python3.6/dist-packages/keras/backend/tensorflow_backend.py:517: The name tf.placeholder is deprecated. Please use tf.compat.v1.placeholder instead.\n",
            "\n",
            "W0725 12:43:13.581414 140167818422144 deprecation_wrapper.py:119] From /usr/local/lib/python3.6/dist-packages/keras/backend/tensorflow_backend.py:4138: The name tf.random_uniform is deprecated. Please use tf.random.uniform instead.\n",
            "\n",
            "W0725 12:43:13.621168 140167818422144 deprecation_wrapper.py:119] From /usr/local/lib/python3.6/dist-packages/keras/backend/tensorflow_backend.py:3976: The name tf.nn.max_pool is deprecated. Please use tf.nn.max_pool2d instead.\n",
            "\n",
            "W0725 12:43:13.809119 140167818422144 deprecation_wrapper.py:119] From /usr/local/lib/python3.6/dist-packages/keras/backend/tensorflow_backend.py:133: The name tf.placeholder_with_default is deprecated. Please use tf.compat.v1.placeholder_with_default instead.\n",
            "\n",
            "W0725 12:43:13.822274 140167818422144 deprecation.py:506] From /usr/local/lib/python3.6/dist-packages/keras/backend/tensorflow_backend.py:3445: calling dropout (from tensorflow.python.ops.nn_ops) with keep_prob is deprecated and will be removed in a future version.\n",
            "Instructions for updating:\n",
            "Please use `rate` instead of `keep_prob`. Rate should be set to `rate = 1 - keep_prob`.\n",
            "W0725 12:43:13.823482 140167818422144 nn_ops.py:4224] Large dropout rate: 0.8 (>0.5). In TensorFlow 2.x, dropout() uses dropout rate instead of keep_prob. Please ensure that this is intended.\n",
            "W0725 12:43:14.658513 140167818422144 deprecation_wrapper.py:119] From /usr/local/lib/python3.6/dist-packages/keras/backend/tensorflow_backend.py:174: The name tf.get_default_session is deprecated. Please use tf.compat.v1.get_default_session instead.\n",
            "\n",
            "W0725 12:43:17.234578 140167818422144 deprecation_wrapper.py:119] From /usr/local/lib/python3.6/dist-packages/keras/optimizers.py:790: The name tf.train.Optimizer is deprecated. Please use tf.compat.v1.train.Optimizer instead.\n",
            "\n"
          ],
          "name": "stderr"
        }
      ]
    },
    {
      "cell_type": "code",
      "metadata": {
        "id": "-kOpZ7GdJrpP"
      },
      "source": [
        "path_dict={0:\"./drive/My Drive/neuro/neuro_disorder_data_final/cerv/disease/\",1:\"./drive/My Drive/neuro/neuro_disorder_data_final/cerv/normal/\"}"
      ],
      "execution_count": null,
      "outputs": []
    },
    {
      "cell_type": "code",
      "metadata": {
        "id": "PINilqejJtBt"
      },
      "source": [
        "def angl(gray, shape1):\n",
        "    size = gray.shape\n",
        "    image_points = np.array([(shape1[30][0],shape1[30][1]),(shape1[8][0],shape1[8][1]), (shape1[45][0],shape1[45][1]), (shape1[36][0],shape1[36][1]),(shape1[54][0],shape1[54][1]),(shape1[48][0],shape1[48][1]) ], dtype=\"double\")\n",
        "    model_points = np.array([\n",
        "                                (0.0, 0.0, 0.0),             # Nose tip\n",
        "                                (0.0, -330.0, -65.0),        # Chin\n",
        "                                (-225.0, 170.0, -135.0),     # Left eye left corner\n",
        "                                (225.0, 170.0, -135.0),      # Right eye right corne\n",
        "                                (-150.0, -150.0, -125.0),    # Left Mouth corner\n",
        "                                (150.0, -150.0, -125.0)      # Right mouth corner\n",
        "                             \n",
        "                            ])\n",
        "    focal_length = size[1]\n",
        "    center = (size[1]/2, size[0]/2)\n",
        "    camera_matrix = np.array(\n",
        "                             [[focal_length, 0, center[0]],\n",
        "                             [0, focal_length, center[1]],\n",
        "                             [0, 0, 1]], dtype = \"double\"\n",
        "                             )\n",
        "    dist_coeffs = np.zeros((4,1))\n",
        "    (success, rotation_vector, translation_vector) = cv2.solvePnP(model_points, image_points, camera_matrix, dist_coeffs, flags=cv2.SOLVEPNP_ITERATIVE)\n",
        "    one=rotation_vector[0][0]*180/3.14\n",
        "    sec=rotation_vector[1][0]*180/3.14\n",
        "    thd= rotation_vector[2][0]*180/3.14\n",
        "    \n",
        "    return(one,sec,thd)"
      ],
      "execution_count": null,
      "outputs": []
    },
    {
      "cell_type": "code",
      "metadata": {
        "id": "8DIds11SJuZY",
        "colab": {
          "base_uri": "https://localhost:8080/",
          "height": 935
        },
        "outputId": "6570b2d5-bef5-45b8-f993-2e9cb8d6e5c5"
      },
      "source": [
        "eye_to_take_final=[]#1 for left\n",
        "for no in range(2):\n",
        "    eye_to_take=[]\n",
        "    arr_vid=os.listdir(path_dict[no])\n",
        "    for i in range(len(arr_vid)):\n",
        "        video_path=path_dict[no]+str(arr_vid[i])\n",
        "        cap=cv2.VideoCapture(video_path)\n",
        "        predrig=[]\n",
        "        rc,lc=0,0\n",
        "        while(cap.isOpened()):\n",
        "            ret , frame=cap.read()\n",
        "            if ret == True:\n",
        "                frame=cv2.resize(frame,(640,360))\n",
        "                gray=cv2.cvtColor(frame,cv2.COLOR_BGR2GRAY)\n",
        "                shape1=np.array([])\n",
        "                rects1=detector(gray,0)\n",
        "                for rect in rects1:\n",
        "                    shape = predictor(gray,rect)\n",
        "                    shape1 = face_utils.shape_to_np(shape)\n",
        "                if(shape1.any()==0):\n",
        "                    #predlef.append('e')\n",
        "                    #predrig.append('e')\n",
        "                    continue \n",
        "                one,sec,thd=angl(gray, shape1)\n",
        "                if(-45<sec<-15 or 15<sec<45):\n",
        "                    if(sec<0):\n",
        "                        rc+=1\n",
        "                    if(sec>=0):\n",
        "                        lc+=1\n",
        "            else:\n",
        "                break\n",
        "        if(rc>=lc):\n",
        "            eye_to_take.append(0)\n",
        "        else:\n",
        "            eye_to_take.append(1)\n",
        "        print(i)\n",
        "    eye_to_take_final.append(eye_to_take)"
      ],
      "execution_count": null,
      "outputs": [
        {
          "output_type": "stream",
          "text": [
            "0\n",
            "1\n",
            "2\n",
            "3\n",
            "4\n",
            "5\n",
            "6\n",
            "7\n",
            "8\n",
            "9\n",
            "10\n",
            "11\n",
            "12\n",
            "13\n",
            "0\n",
            "1\n",
            "2\n",
            "3\n",
            "4\n",
            "5\n",
            "6\n",
            "7\n",
            "8\n",
            "9\n",
            "10\n",
            "11\n",
            "12\n",
            "13\n",
            "14\n",
            "15\n",
            "16\n",
            "17\n",
            "18\n",
            "19\n",
            "20\n",
            "21\n",
            "22\n",
            "23\n",
            "24\n",
            "25\n",
            "26\n",
            "27\n",
            "28\n",
            "29\n",
            "30\n",
            "31\n",
            "32\n",
            "33\n",
            "34\n",
            "35\n",
            "36\n"
          ],
          "name": "stdout"
        }
      ]
    },
    {
      "cell_type": "code",
      "metadata": {
        "id": "7LHfEDnzJ04o",
        "colab": {
          "base_uri": "https://localhost:8080/",
          "height": 701
        },
        "outputId": "6517039e-f095-4adf-c061-53dd6e84e67f"
      },
      "source": [
        "eye_to_take_final"
      ],
      "execution_count": null,
      "outputs": [
        {
          "output_type": "execute_result",
          "data": {
            "text/plain": [
              "[[0, 1, 0, 1, 1, 1, 1, 0, 0, 0, 1, 1, 1, 1],\n",
              " [1,\n",
              "  0,\n",
              "  0,\n",
              "  0,\n",
              "  1,\n",
              "  1,\n",
              "  0,\n",
              "  0,\n",
              "  1,\n",
              "  1,\n",
              "  1,\n",
              "  0,\n",
              "  0,\n",
              "  1,\n",
              "  0,\n",
              "  1,\n",
              "  1,\n",
              "  1,\n",
              "  1,\n",
              "  1,\n",
              "  0,\n",
              "  0,\n",
              "  1,\n",
              "  1,\n",
              "  0,\n",
              "  0,\n",
              "  0,\n",
              "  0,\n",
              "  1,\n",
              "  1,\n",
              "  0,\n",
              "  1,\n",
              "  1,\n",
              "  0,\n",
              "  1,\n",
              "  0,\n",
              "  1]]"
            ]
          },
          "metadata": {
            "tags": []
          },
          "execution_count": 10
        }
      ]
    },
    {
      "cell_type": "code",
      "metadata": {
        "id": "AYCvRqF_KH-S"
      },
      "source": [
        "np.save(path_dict[0]+\"eye_to_take_final\",eye_to_take_final)"
      ],
      "execution_count": null,
      "outputs": []
    },
    {
      "cell_type": "code",
      "metadata": {
        "id": "8Hc_fsmAKxY4"
      },
      "source": [
        "#for right eye 0, for left eye 1 in eye_to_take_final\n",
        "arrq=[]\n",
        "for no in range(2):\n",
        "    arr_vid=os.listdir(path_dict[no])\n",
        "    for i in range(len(arr_vid)):\n",
        "        \n",
        "        video_path=path_dict[no]+str(arr_vid[i])\n",
        "        cap=cv2.VideoCapture(video_path)\n",
        "        predrig=[]\n",
        "        while(cap.isOpened()):\n",
        "            ret , frame=cap.read()\n",
        "            if ret == True:\n",
        "                gray=cv2.cvtColor(frame,cv2.COLOR_BGR2GRAY)\n",
        "                shape1=np.array([])\n",
        "                rects1=detector(gray,0)\n",
        "                for rect in rects1:\n",
        "                    shape = predictor(gray,rect)\n",
        "                    shape1 = face_utils.shape_to_np(shape)\n",
        "                if(shape1.any()==0):\n",
        "                    #predlef.append('e')\n",
        "                    predrig.append('e')\n",
        "                    continue\n",
        "                \n",
        "                if(eye_to_take_final[no][i]==0):\n",
        "                    eye_img=reye(frame,shape1)\n",
        "                    eye_img=cv2.cvtColor(eye_img,cv2.COLOR_BGR2GRAY)\n",
        "                else:\n",
        "                    eye_img=leye(frame,shape1)\n",
        "                    eye_img=cv2.cvtColor(eye_img,cv2.COLOR_BGR2GRAY)\n",
        "                \n",
        "                img=cv2.resize(eye_img, (50,50))\n",
        "                img=np.reshape(img, ([1,50,50,1]))\n",
        "                pred2=np.argmax(model.predict(img))\n",
        "                predrig.append(pred2)\n",
        "            else:\n",
        "                break\n",
        "        arrq.append(predrig)\n",
        "        cap.release()\n",
        "        cv2.destroyAllWindows()        "
      ],
      "execution_count": null,
      "outputs": []
    },
    {
      "cell_type": "code",
      "metadata": {
        "id": "-HUMQECXfNsh",
        "colab": {
          "base_uri": "https://localhost:8080/",
          "height": 55
        },
        "outputId": "f883a3ee-e2c7-4fd8-d488-f9c6e9bdf780"
      },
      "source": [
        "model = Sequential()\n",
        "model.add(Convolution2D(32, (2,2), input_shape=(50,50,3), activation='relu'))\n",
        "model.add(MaxPooling2D(pool_size=(2, 2),padding='same'))\n",
        "\n",
        "model.add(Convolution2D(64, (2,2), activation='relu', padding='same'))\n",
        "model.add(MaxPooling2D(pool_size=(2, 2),padding='same'))\n",
        "\n",
        "\n",
        "model.add(Convolution2D(32, (2,2), activation='relu', padding='same'))\n",
        "model.add(MaxPooling2D(pool_size=(2, 2),padding='same'))\n",
        "model.add(Convolution2D(64, (2,2), activation='relu', padding='same'))\n",
        "model.add(MaxPooling2D(pool_size=(2, 2), padding='same'))\n",
        "model.add(Convolution2D(32, (2,2), activation='relu', padding='same'))\n",
        "model.add(MaxPooling2D(pool_size=(2, 2),padding='same'))\n",
        "model.add(Convolution2D(64, (2,2), activation='relu', padding='same'))\n",
        "model.add(MaxPooling2D(pool_size=(2, 2),padding='same'))\n",
        "\n",
        "\n",
        "model.add(Convolution2D(32, (2,2), activation='relu', padding='same'))\n",
        "model.add(MaxPooling2D(pool_size=(2, 2),padding='same'))\n",
        "model.add(Convolution2D(64, (2,2), activation='relu', padding='same'))\n",
        "model.add(MaxPooling2D(pool_size=(2, 2),padding='same'))\n",
        "\n",
        "\n",
        "model.add(Convolution2D(32, (2,2), activation='relu', padding='same'))\n",
        "model.add(MaxPooling2D(pool_size=(2, 2),padding='same'))\n",
        "\n",
        "model.add(Convolution2D(64, 2, activation='relu',padding='same'))\n",
        "#model.add(ZeroPadding2D((1, 1)))\n",
        "model.add(MaxPooling2D(pool_size=2,padding='same'))\n",
        "#model.add(Dropout(0.3))\n",
        "\n",
        "\n",
        "model.add(Flatten())\n",
        "model.add(Dense(1024, activation='relu'))\n",
        "#model.add(Dropout(0.30))\n",
        "#   model.add(Dense(512, activation='relu'))\n",
        "#   model.add(Dense(1024, activation='relu'))\n",
        "model.add(Dropout(drop))\n",
        "model.add(Dense(2))\n",
        "model.add(Activation('softmax'))\n",
        "model.load_weights(\"./drive/My Drive/neuro/cerv/sideorcenter.hdf5\")\n",
        "# 0 ek side and center and 1 required side for CD"
      ],
      "execution_count": null,
      "outputs": [
        {
          "output_type": "stream",
          "text": [
            "W0725 18:36:18.340753 140167818422144 nn_ops.py:4224] Large dropout rate: 0.8 (>0.5). In TensorFlow 2.x, dropout() uses dropout rate instead of keep_prob. Please ensure that this is intended.\n"
          ],
          "name": "stderr"
        }
      ]
    },
    {
      "cell_type": "code",
      "metadata": {
        "id": "lsOg_WFsfvhl",
        "colab": {
          "base_uri": "https://localhost:8080/",
          "height": 35
        },
        "outputId": "fff423fe-80d9-4208-cbf8-80235ee1057a"
      },
      "source": [
        "f= open(path_dict[0]+\"cerv.txt\",\"w\")\n",
        "f.write(\"vid,feature,label\\n\")"
      ],
      "execution_count": null,
      "outputs": [
        {
          "output_type": "execute_result",
          "data": {
            "text/plain": [
              "18"
            ]
          },
          "metadata": {
            "tags": []
          },
          "execution_count": 14
        }
      ]
    },
    {
      "cell_type": "code",
      "metadata": {
        "id": "DSYwOlQtfsu-"
      },
      "source": [
        "arrq_count=0\n",
        "for no in range(2):\n",
        "    arr_vid=os.listdir(path_dict[no])\n",
        "    for i in range(len(arr_vid)):\n",
        "        video_path=path_dict[no]+str(arr_vid[i])\n",
        "        cap=cv2.VideoCapture(video_path)\n",
        "        arr=arrq[arrq_count]\n",
        "        arrq_count+=1\n",
        "        vid=arr_vid[i].split(\".mp4\")[0]\n",
        "        c=0                                                 # count h frames ka\n",
        "        p=0\n",
        "\n",
        "        while(cap.isOpened()):\n",
        "            ret , frame=cap.read()\n",
        "            if ret == True:\n",
        "                if(arr[c]==1):# yaha check kr rhe h \n",
        "                    gray=cv2.cvtColor(frame,cv2.COLOR_BGR2GRAY)\n",
        "                    shape1=np.array([])\n",
        "                    rects1=detector(gray,1)\n",
        "                    for rect in rects1:\n",
        "                        shape = predictor(gray,rect)\n",
        "                        shape1 = face_utils.shape_to_np(shape)\n",
        "                    if(shape1.any()==0):\n",
        "                        continue\n",
        "                    one,sec,thd=angl(gray, shape1)\n",
        "                    if(-45<sec<-15 or 15<sec<45):\n",
        "                        if(sec<0):\n",
        "                            eye=reye(frame,shape1)\n",
        "                        else:\n",
        "                            eye=leye(frame,shape1)\n",
        "                            eye=cv2.flip(eye,1)\n",
        "                        #eye = cv2.cvtColor(eye, cv2.COLOR_BGR2GRAY)\n",
        "                        eye = cv2.resize(eye, (50,50))\n",
        "                        eye = np.reshape(eye, (1,50,50,3))\n",
        "                        pred=np.argmax(model.predict(eye))\n",
        "                        p = pred+p\n",
        "            else:\n",
        "                break\n",
        "            c+=1\n",
        "        cap.release()\n",
        "        cv2.destroyAllWindows()\n",
        "        print(\"vid : \",i, p,c)\n",
        "        if (c!=0):\n",
        "            f.write(str(vid)+\",\"+str(p/c)+\",\"+str(0)+\"\\n\")\n",
        "        else:\n",
        "            f.write(str(vid)+\",\"+\"can't detect\"+\",\"+str(0)+\"\\n\")\n",
        "        \n",
        "        \n",
        "    f.write(\"\\n\")\n",
        "    f.write(\"\\n\")\n",
        "    \n",
        "        \n",
        "        "
      ],
      "execution_count": null,
      "outputs": []
    },
    {
      "cell_type": "code",
      "metadata": {
        "id": "77MiaGuxf1ZM"
      },
      "source": [
        "f.close()"
      ],
      "execution_count": null,
      "outputs": []
    },
    {
      "cell_type": "code",
      "metadata": {
        "id": "HoPwCkQwjGGg"
      },
      "source": [
        ""
      ],
      "execution_count": null,
      "outputs": []
    }
  ]
}